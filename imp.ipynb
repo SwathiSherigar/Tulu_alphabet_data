{
 "cells": [
  {
   "cell_type": "code",
   "execution_count": 1,
   "metadata": {},
   "outputs": [],
   "source": [
    "# used to convert the varnamala image to csv\n",
    "import cv2\n",
    "import numpy as np\n",
    "import pandas as pd\n",
    "import os\n",
    "\n",
    "def preprocess_images(image_folder):\n",
    "    images = []\n",
    "    labels = []\n",
    "    for filename in os.listdir(image_folder):\n",
    "        if filename.endswith(\".jpg\") or filename.endswith(\".png\"):\n",
    "            image_path = os.path.join(image_folder, filename)\n",
    "            image = cv2.imread(image_path, cv2.IMREAD_GRAYSCALE)\n",
    "            if image is not None:\n",
    "                \n",
    "                inverted_image = cv2.bitwise_not(image)\n",
    "\n",
    "              \n",
    "                _, thresholded_image = cv2.threshold(inverted_image, 127, 255, cv2.THRESH_BINARY)\n",
    "\n",
    "                \n",
    "                resized_image = cv2.resize(thresholded_image, (35, 35))\n",
    "\n",
    "            \n",
    "                flattened_image = resized_image.flatten()\n",
    "\n",
    "            \n",
    "                images.append(flattened_image)\n",
    "\n",
    "               \n",
    "                labels.append(filename)\n",
    "\n",
    "    return np.array(images), np.array(labels)\n",
    "\n",
    "image_folder = r'A:\\mnist_dataset\\importnant_combined\\a_tulu_data'  \n",
    "images, labels = preprocess_images(image_folder)\n",
    "\n",
    "df_images = pd.DataFrame(images)\n",
    "df_labels = pd.DataFrame(labels, columns=[\"Label\"])\n",
    "\n",
    "\n",
    "df = pd.concat([df_labels, df_images], axis=1)\n",
    "\n",
    "\n",
    "df.to_csv(\"tulu_data.csv\", index=False)\n"
   ]
  },
  {
   "cell_type": "code",
   "execution_count": 2,
   "metadata": {},
   "outputs": [],
   "source": [
    "# to remove the png from the label[1.png to 1]\n",
    "import pandas as pd\n",
    "\n",
    "# Load the CSV file\n",
    "csv_file_path = r'tulu_data.csv'\n",
    "df = pd.read_csv(csv_file_path)\n",
    "df['Label'] = df['Label'].str.replace('.png', '')\n",
    "\n",
    "# Save the modified DataFrame back to a CSV file\n",
    "df.to_csv('tulu_data_imp.csv', index=False)"
   ]
  },
  {
   "cell_type": "code",
   "execution_count": 5,
   "metadata": {},
   "outputs": [
    {
     "name": "stdout",
     "output_type": "stream",
     "text": [
      "shape: (699, 1226)\n",
      "Pixel data saved to pixel_data.txt\n",
      "[[0 0 0 ... 0 0 0]\n",
      " [0 0 0 ... 0 0 0]\n",
      " [0 0 0 ... 0 0 0]\n",
      " ...\n",
      " [0 0 0 ... 0 0 0]\n",
      " [0 0 0 ... 0 0 0]\n",
      " [0 0 0 ... 0 0 0]]\n"
     ]
    },
    {
     "data": {
      "image/png": "[encoded data removed]",
      "text/plain": [
       "<Figure size 640x480 with 1 Axes>"
      ]
     },
     "metadata": {},
     "output_type": "display_data"
    }
   ],
   "source": [
    "import pandas as pd\n",
    "import numpy as np\n",
    "import matplotlib.pyplot as plt\n",
    "\n",
    "# Load the CSV file into a Pandas DataFrame\n",
    "df = pd.read_csv(r'A:\\mnist_dataset\\importnant_combined\\tulu_data_imp.csv')\n",
    "print(\"shape:\",df.shape)\n",
    "labels = df.iloc[:, 0] \n",
    "pixels = df.iloc[:, 1:]  \n",
    "\n",
    "\n",
    "def process_image(index):\n",
    "    image = pixels.iloc[index].values.reshape(35,35)\n",
    "    print(image)  \n",
    "    \n",
    "  \n",
    "    plt.imshow(image, cmap='gray')  \n",
    "    plt.title(f\"Label: {labels.iloc[index]}\") \n",
    "    plt.axis('off')\n",
    "    plt.show()  \n",
    "    import numpy as np\n",
    "\n",
    " # Save pixel data to file\n",
    "\n",
    "print(\"Pixel data saved to pixel_data.txt\")\n",
    "process_image(2)\n",
    "\n"
   ]
  }
 ],
 "metadata": {
  "kernelspec": {
   "display_name": "Python 3",
   "language": "python",
   "name": "python3"
  },
  "language_info": {
   "codemirror_mode": {
    "name": "ipython",
    "version": 3
   },
   "file_extension": ".py",
   "mimetype": "text/x-python",
   "name": "python",
   "nbconvert_exporter": "python",
   "pygments_lexer": "ipython3",
   "version": "3.11.9"
  }
 },
 "nbformat": 4,
 "nbformat_minor": 2
}
